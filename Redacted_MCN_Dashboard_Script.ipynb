{
  "nbformat": 4,
  "nbformat_minor": 0,
  "metadata": {
    "colab": {
      "provenance": []
    },
    "kernelspec": {
      "name": "python3",
      "display_name": "Python 3"
    },
    "language_info": {
      "name": "python"
    }
  },
  "cells": [
    {
      "cell_type": "code",
      "source": [
        "# Import dependencies\n",
        "import csv\n",
        "import numpy as np\n",
        "import io\n",
        "import pandas as pd\n",
        "\n",
        "from google.colab import auth\n",
        "auth.authenticate_user()\n",
        "\n",
        "import gspread\n",
        "from google.auth import default\n",
        "creds, _ = default()\n",
        "\n",
        "# Authorize gspread\n",
        "gc = gspread.authorize(creds)\n"
      ],
      "metadata": {
        "id": "C9qitmR55vpe"
      },
      "execution_count": 30,
      "outputs": []
    },
    {
      "cell_type": "code",
      "source": [
        "# Open the MCN Channel List by URL\n",
        "spreadsheet_url = ''\n",
        "spreadsheet = gc.open_by_url(spreadsheet_url)\n",
        "\n",
        "# Select the Language Data worksheet\n",
        "worksheet_title = 'Language Data'  # Replace 'Your Worksheet Title' with the actual title\n",
        "worksheet = spreadsheet.worksheet(worksheet_title)\n",
        "\n",
        "# Read data from the worksheet into a DataFrame\n",
        "data = worksheet.get_all_values()\n",
        "headers = data.pop(0)  # Remove the first row as it contains headers\n",
        "language_df = pd.DataFrame(data, columns=headers)\n",
        "\n",
        "# Select the Genre Data worksheet\n",
        "worksheet_title = 'Genre Data'  # Replace 'Your Worksheet Title' with the actual title\n",
        "worksheet = spreadsheet.worksheet(worksheet_title)\n",
        "\n",
        "# Read data from the worksheet into a DataFrame\n",
        "data = worksheet.get_all_values()\n",
        "headers = data.pop(0)  # Remove the first row as it contains headers\n",
        "Genre_df = pd.DataFrame(data, columns=headers)\n",
        "\n",
        "# Select the Top Market Data worksheet\n",
        "worksheet_title = 'Top Market Data'  # Replace 'Your Worksheet Title' with the actual title\n",
        "worksheet = spreadsheet.worksheet(worksheet_title)\n",
        "\n",
        "# Read data from the worksheet into a DataFrame\n",
        "data = worksheet.get_all_values()\n",
        "headers = data.pop(0)  # Remove the first row as it contains headers\n",
        "market_df = pd.DataFrame(data, columns=headers)\n",
        "\n",
        "# Select the Mood Data worksheet\n",
        "worksheet_title = 'Mood Data'  # Replace 'Your Worksheet Title' with the actual title\n",
        "worksheet = spreadsheet.worksheet(worksheet_title)\n",
        "\n",
        "# Read data from the worksheet into a DataFrame\n",
        "data = worksheet.get_all_values()\n",
        "headers = data.pop(0)  # Remove the first row as it contains headers\n",
        "Mood_df = pd.DataFrame(data, columns=headers)\n",
        "\n",
        "# Select the Channel List worksheet\n",
        "worksheet_title = 'Channel List'  # Replace 'Your Worksheet Title' with the actual title\n",
        "worksheet = spreadsheet.worksheet(worksheet_title)\n",
        "\n",
        "# Read data from the worksheet into a DataFrame\n",
        "data = worksheet.get_all_values()\n",
        "headers = data.pop(0)  # Remove the first row as it contains headers\n",
        "channel_list_df = pd.DataFrame(data, columns=headers)\n",
        "\n",
        "# Display data types of columns\n",
        "data_types = channel_list_df.dtypes\n",
        "print(data_types)\n"
      ],
      "metadata": {
        "colab": {
          "base_uri": "https://localhost:8080/"
        },
        "id": "FocNQmg553vO",
        "outputId": "5575f0bb-37f8-4886-f195-e12b5a2bf1d7"
      },
      "execution_count": 31,
      "outputs": [
        {
          "output_type": "stream",
          "name": "stdout",
          "text": [
            "Channel Name                        object\n",
            "Channel ID                          object\n",
            "URL                                 object\n",
            "MCN                                 object\n",
            "Date Added To Network               object\n",
            "Content ID Status                   object\n",
            " YouTube Current Subscribers        object\n",
            "YouTube All Time Channel Views      object\n",
            "Total Channel Uploads on YouTube    object\n",
            "YouTube Uploads Last 30 Days        object\n",
            "Genres                              object\n",
            "Moods                               object\n",
            "Language                            object\n",
            "Video Type                          object\n",
            "Audio Type                          object\n",
            "Top Markets                         object\n",
            "Location                            object\n",
            "Contact                             object\n",
            "Contact Name                        object\n",
            "Notes                               object\n",
            "Channel ID ( - \"UC\")                object\n",
            "dtype: object\n"
          ]
        }
      ]
    },
    {
      "cell_type": "code",
      "source": [
        "# Preview a df\n",
        "#Genre_df.head()"
      ],
      "metadata": {
        "id": "1dfeOHz5wToa"
      },
      "execution_count": 32,
      "outputs": []
    },
    {
      "cell_type": "code",
      "source": [
        "# Prepare Genre_df for melting\n",
        "Genre_df = Genre_df.drop(columns='Channel Name')\n",
        "\n",
        "# Melt the DataFrame to have each genre for a channel be a new row\n",
        "melted_genre_df = pd.melt(Genre_df, id_vars='Channel ID', var_name='Irrelevant', value_name='Channel Genre')\n",
        "\n",
        "# Remove empty variable column\n",
        "melted_genre_df = melted_genre_df.drop(columns='Irrelevant')\n",
        "\n",
        "# Drop any rows with a null\n",
        "melted_genre_df = melted_genre_df[melted_genre_df['Channel Genre'] != 'Null']\n",
        "\n",
        "# Remove any white space at the beginning or end of string\n",
        "melted_genre_df['Channel Genre'] = melted_genre_df['Channel Genre'].str.rstrip()\n",
        "melted_genre_df['Channel Genre'] = melted_genre_df['Channel Genre'].str.lstrip()\n",
        "\n",
        "#Preview\n",
        "#melted_genre_df"
      ],
      "metadata": {
        "id": "al_r4QTtxa3t"
      },
      "execution_count": 33,
      "outputs": []
    },
    {
      "cell_type": "code",
      "source": [
        "# Prepare language_df for melting\n",
        "language_df = language_df.drop(columns='Channel Name')\n",
        "\n",
        "# Melt the DataFrame to have each language for a channel be a new row\n",
        "melted_language_df = pd.melt(language_df, id_vars='Channel ID', var_name='Irrelevant', value_name='Channel Language')\n",
        "\n",
        "# Remove empty variable column\n",
        "melted_language_df = melted_language_df.drop(columns='Irrelevant')\n",
        "\n",
        "# Drop any rows with a null\n",
        "melted_language_df = melted_language_df[melted_language_df['Channel Language'] != 'Null']\n",
        "\n",
        "# Remove any white space at the beginning or end of string\n",
        "melted_language_df['Channel Language'] = melted_language_df['Channel Language'].str.rstrip()\n",
        "melted_language_df['Channel Language'] = melted_language_df['Channel Language'].str.lstrip()\n",
        "\n",
        "#Preview\n",
        "#melted_language_df"
      ],
      "metadata": {
        "id": "ILSB7fv11x2R"
      },
      "execution_count": 18,
      "outputs": []
    },
    {
      "cell_type": "code",
      "source": [
        "# Prepare Mood_df for melting\n",
        "Mood_df = Mood_df.drop(columns='Channel Name')\n",
        "\n",
        "# Melt the DataFrame to have each mood for a channel be a new row\n",
        "melted_Mood_df = pd.melt(Mood_df, id_vars='Channel ID', var_name='Irrelevant', value_name='Channel Mood')\n",
        "\n",
        "# Remove empty variable column\n",
        "melted_Mood_df = melted_Mood_df.drop(columns='Irrelevant')\n",
        "\n",
        "# Drop any rows with a null\n",
        "melted_Mood_df = melted_Mood_df[melted_Mood_df['Channel Mood'] != 'Null']\n",
        "\n",
        "# Remove any white space at the beginning or end of string\n",
        "melted_Mood_df['Channel Mood'] = melted_Mood_df['Channel Mood'].str.rstrip()\n",
        "melted_Mood_df['Channel Mood'] = melted_Mood_df['Channel Mood'].str.lstrip()\n",
        "\n",
        "#Preview\n",
        "#melted_Mood_df"
      ],
      "metadata": {
        "id": "G4KNnvTG2_dP"
      },
      "execution_count": 19,
      "outputs": []
    },
    {
      "cell_type": "code",
      "source": [
        "# Prepare df for melting\n",
        "#market_df = market_df.drop(columns='Channel Name')\n",
        "\n",
        "# Melt the DataFrame to have each market for a channel be a new row\n",
        "melted_market_df = pd.melt(market_df, id_vars=['Channel ID'], value_vars=['Top Market 1', 'Top Market 2', 'Top Market 3', 'Top Market 4', 'Top Market 5', 'Top Market 6', 'Top Market 7'], var_name='Rank', value_name='Market Name')\n",
        "\n",
        "# Remove empty variable column\n",
        "melted_market_df = melted_market_df.dropna(subset=['Market Name'])\n",
        "\n",
        "# Add a Rank column based on the order of appearance\n",
        "melted_market_df['Rank'] = melted_market_df.groupby('Channel ID').cumcount() + 1\n",
        "\n",
        "# Drop any rows with a null\n",
        "melted_market_df = melted_market_df[melted_market_df['Market Name'] != 'Null']\n",
        "\n",
        "# Remove any white space from market names\n",
        "melted_market_df['Market Name'] = melted_market_df['Market Name'].str.rstrip()\n",
        "melted_market_df['Market Name'] = melted_market_df['Market Name'].str.lstrip()\n",
        "\n",
        "#Preview\n",
        "#melted_market_df"
      ],
      "metadata": {
        "id": "mpcyDx_03_GP"
      },
      "execution_count": 20,
      "outputs": []
    },
    {
      "cell_type": "code",
      "source": [
        "# Export to Google Sheet\n",
        "\n",
        "#!pip install gspread-dataframe==3.3.1\n",
        "#from gspread_dataframe import get_as_dataframe, set_with_dataframe\n",
        "\n",
        "# Authenticate user\n",
        "#auth.authenticate_user()\n",
        "\n",
        "# Authorize gspread\n",
        "#gc = gspread.authorize(creds)\n",
        "\n",
        "# Open the spreadsheet\n",
        "#sh = gc.open_by_url(spreadsheet_url)\n",
        "\n",
        "# Select the specific worksheet by title\n",
        "#worksheet_title = 'Genre_Dashboard'\n",
        "\n",
        "# Get the worksheet\n",
        "#worksheet = sh.worksheet(worksheet_title)\n",
        "\n",
        "# Clear the existing contents in the worksheet\n",
        "#worksheet.clear()\n",
        "\n",
        "# Write the DataFrame to the worksheet\n",
        "#set_with_dataframe(worksheet, melted_genre_df)\n",
        "\n",
        "# Select the specific worksheet by title\n",
        "#worksheet_title = 'Markets_Dashboard'\n",
        "\n",
        "# Get the worksheet\n",
        "#worksheet = sh.worksheet(worksheet_title)\n",
        "\n",
        "# Clear the existing contents in the worksheet\n",
        "#worksheet.clear()\n",
        "\n",
        "# Write the DataFrame to the worksheet\n",
        "#set_with_dataframe(worksheet, melted_market_df)\n",
        "\n",
        "# Select the specific worksheet by title\n",
        "\n",
        "# Get the worksheet\n",
        "#worksheet = sh.worksheet(worksheet_title)\n",
        "\n",
        "# Clear the existing contents in the worksheet\n",
        "#worksheet.clear()\n",
        "\n",
        "# Write the DataFrame to the worksheet\n",
        "#set_with_dataframe(worksheet, melted_Mood_df)\n",
        "\n",
        "# Select the specific worksheet by title\n",
        "#worksheet_title = 'Languages_Dashboard'\n",
        "\n",
        "# Get the worksheet\n",
        "#worksheet = sh.worksheet(worksheet_title)\n",
        "\n",
        "# Clear the existing contents in the worksheet\n",
        "#worksheet.clear()\n",
        "\n",
        "# Write the DataFrame to the worksheet\n",
        "#set_with_dataframe(worksheet, melted_language_df)\n",
        "\n",
        "#print(\"Script Successful\")\n"
      ],
      "metadata": {
        "id": "nnKAxZyM5LRs"
      },
      "execution_count": 21,
      "outputs": []
    },
    {
      "cell_type": "code",
      "source": [
        "# Prepare other Channel List fields for merging\n",
        "\n",
        "# Select the Channel List worksheet\n",
        "worksheet_title = 'Channel List'  # Replace 'Your Worksheet Title' with the actual title\n",
        "worksheet = spreadsheet.worksheet(worksheet_title)\n",
        "\n",
        "# Read data from the worksheet into a DataFrame\n",
        "data = worksheet.get_all_values()\n",
        "headers = data.pop(0)  # Remove the first row as it contains headers\n",
        "channel_data_df = pd.DataFrame(data, columns=headers)\n",
        "\n",
        "# Drop extra columns\n",
        "channel_data_df = channel_data_df.drop(columns=['URL', 'Genres', 'Moods', 'Language', 'Top Markets', 'Content ID Status', 'Notes', 'Channel ID ( - \"UC\")'])\n",
        "\n",
        "#channel_data_df.head()"
      ],
      "metadata": {
        "id": "9DUvqqoP7QDN"
      },
      "execution_count": 22,
      "outputs": []
    },
    {
      "cell_type": "code",
      "source": [
        "# Merge dataframes\n",
        "merged_df = pd.merge(melted_genre_df, melted_language_df, on='Channel ID', how='left')\n",
        "merged_df = pd.merge(merged_df, melted_market_df, on='Channel ID', how='left')\n",
        "merged_df = pd.merge(merged_df, melted_Mood_df, on='Channel ID', how='left')\n",
        "merged_df = pd.merge(merged_df, channel_data_df, on='Channel ID', how='left')\n",
        "\n",
        "# Display the resulting dataframe\n",
        "#print(merged_df)\n"
      ],
      "metadata": {
        "id": "e1f8WINz5awp"
      },
      "execution_count": 23,
      "outputs": []
    },
    {
      "cell_type": "code",
      "source": [
        "import pandas as pd\n",
        "\n",
        "# Convert numeric columns to numeric type\n",
        "numeric_columns = [' YouTube Current Subscribers ', 'YouTube All Time Channel Views', 'Total Channel Uploads on YouTube', 'YouTube Uploads Last 30 Days']\n",
        "#merged_df[numeric_columns] = merged_df[numeric_columns].apply(lambda x: pd.to_numeric(x.str.replace(',', ''), errors='coerce'))\n",
        "\n",
        "# Create a mask for the first occurrence of each channel\n",
        "mask = ~merged_df.duplicated(subset=['Channel ID'], keep='first')\n",
        "\n",
        "# Set numeric values to zero for non-first occurrences\n",
        "merged_df.loc[~mask, numeric_columns] = 0\n",
        "\n",
        "# Display the resulting dataframe\n",
        "#print(merged_df)\n"
      ],
      "metadata": {
        "id": "z1fT4pIz9483"
      },
      "execution_count": 24,
      "outputs": []
    },
    {
      "cell_type": "code",
      "source": [
        "!pip install gspread-dataframe==3.3.1\n",
        "from gspread_dataframe import get_as_dataframe, set_with_dataframe\n",
        "\n",
        "# Authenticate user\n",
        "auth.authenticate_user()\n",
        "\n",
        "# Authorize gspread\n",
        "gc = gspread.authorize(creds)\n",
        "\n",
        "# Open the spreadsheet\n",
        "sh = gc.open_by_url(spreadsheet_url)\n",
        "\n",
        "# Select the specific worksheet by title\n",
        "worksheet_title = 'Dashboard_Dataset'\n",
        "\n",
        "# Get the worksheet\n",
        "worksheet = sh.worksheet(worksheet_title)\n",
        "\n",
        "# Clear the existing contents in the worksheet\n",
        "#worksheet.clear()\n",
        "\n",
        "# Write the DataFrame to the worksheet\n",
        "set_with_dataframe(worksheet, merged_df)\n",
        "\n",
        "print(\"Script Successful\")"
      ],
      "metadata": {
        "colab": {
          "base_uri": "https://localhost:8080/"
        },
        "id": "UbNmZAfzBK3R",
        "outputId": "bbe6e41a-996a-4600-ac00-92fcdc7c1897"
      },
      "execution_count": 25,
      "outputs": [
        {
          "output_type": "stream",
          "name": "stdout",
          "text": [
            "Requirement already satisfied: gspread-dataframe==3.3.1 in /usr/local/lib/python3.10/dist-packages (3.3.1)\n",
            "Requirement already satisfied: gspread>=3.0.0 in /usr/local/lib/python3.10/dist-packages (from gspread-dataframe==3.3.1) (3.4.2)\n",
            "Requirement already satisfied: pandas>=0.24.0 in /usr/local/lib/python3.10/dist-packages (from gspread-dataframe==3.3.1) (1.5.3)\n",
            "Requirement already satisfied: six>=1.12.0 in /usr/local/lib/python3.10/dist-packages (from gspread-dataframe==3.3.1) (1.16.0)\n",
            "Requirement already satisfied: requests>=2.2.1 in /usr/local/lib/python3.10/dist-packages (from gspread>=3.0.0->gspread-dataframe==3.3.1) (2.31.0)\n",
            "Requirement already satisfied: google-auth in /usr/local/lib/python3.10/dist-packages (from gspread>=3.0.0->gspread-dataframe==3.3.1) (2.17.3)\n",
            "Requirement already satisfied: python-dateutil>=2.8.1 in /usr/local/lib/python3.10/dist-packages (from pandas>=0.24.0->gspread-dataframe==3.3.1) (2.8.2)\n",
            "Requirement already satisfied: pytz>=2020.1 in /usr/local/lib/python3.10/dist-packages (from pandas>=0.24.0->gspread-dataframe==3.3.1) (2023.3.post1)\n",
            "Requirement already satisfied: numpy>=1.21.0 in /usr/local/lib/python3.10/dist-packages (from pandas>=0.24.0->gspread-dataframe==3.3.1) (1.23.5)\n",
            "Requirement already satisfied: charset-normalizer<4,>=2 in /usr/local/lib/python3.10/dist-packages (from requests>=2.2.1->gspread>=3.0.0->gspread-dataframe==3.3.1) (3.3.2)\n",
            "Requirement already satisfied: idna<4,>=2.5 in /usr/local/lib/python3.10/dist-packages (from requests>=2.2.1->gspread>=3.0.0->gspread-dataframe==3.3.1) (3.6)\n",
            "Requirement already satisfied: urllib3<3,>=1.21.1 in /usr/local/lib/python3.10/dist-packages (from requests>=2.2.1->gspread>=3.0.0->gspread-dataframe==3.3.1) (2.0.7)\n",
            "Requirement already satisfied: certifi>=2017.4.17 in /usr/local/lib/python3.10/dist-packages (from requests>=2.2.1->gspread>=3.0.0->gspread-dataframe==3.3.1) (2023.11.17)\n",
            "Requirement already satisfied: cachetools<6.0,>=2.0.0 in /usr/local/lib/python3.10/dist-packages (from google-auth->gspread>=3.0.0->gspread-dataframe==3.3.1) (5.3.2)\n",
            "Requirement already satisfied: pyasn1-modules>=0.2.1 in /usr/local/lib/python3.10/dist-packages (from google-auth->gspread>=3.0.0->gspread-dataframe==3.3.1) (0.3.0)\n",
            "Requirement already satisfied: rsa<5,>=3.1.4 in /usr/local/lib/python3.10/dist-packages (from google-auth->gspread>=3.0.0->gspread-dataframe==3.3.1) (4.9)\n",
            "Requirement already satisfied: pyasn1<0.6.0,>=0.4.6 in /usr/local/lib/python3.10/dist-packages (from pyasn1-modules>=0.2.1->google-auth->gspread>=3.0.0->gspread-dataframe==3.3.1) (0.5.1)\n",
            "Script Successful\n"
          ]
        }
      ]
    }
  ]
}
